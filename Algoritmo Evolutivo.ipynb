{
 "cells": [
  {
   "cell_type": "markdown",
   "metadata": {},
   "source": [
    "# Algoritmos Genéticos"
   ]
  },
  {
   "cell_type": "markdown",
   "metadata": {},
   "source": [
    "Introdução\n",
    "------\n",
    "\n",
    "Com a finalidade de aplicar os conceitos de algoritmos genéticos, o estudo abaixo visa implementá-los computacionalmente e, desta maneira, com os resultados obtidos o mesmo permitirá uma análise da eficácia desses algoritmos para resolução de determinados grupos de problemas, como os de otimização e os de busca."
   ]
  },
  {
   "cell_type": "markdown",
   "metadata": {},
   "source": [
    "Referencial Teórico\n",
    "------\n",
    "\n",
    "Algoritmos genéticos são algoritmos inspirados na seleção natural definido por Charles Darwin e pertencem à classe dos algoritmos evolucionários. Possuem metas de \"abstrair e rigorosamente explicar os processos adaptativos em sistemas naturais\" e \"desenvolver simulações em computador que retenham os mecanismos originais encontrados em sistemas naturais\". As características principais são: existir espaços genotípicos e fenotípicos; fazer busca em cima de uma população e não sobre um único indivíduo e; utilizar regras probabilísticas de transição, em oposição às determinísticas.\n",
    "Esses algoritmos geralmente possuem cinco etapas bem definidas: geração da população inicial; calculo de afinidade com o objetivo, também chamado de _fitness_; seleção; reprodução e; mutação.\n",
    "População, neste cenário, é o conjunto de indivíduos e esses são as possíveis soluções do problema a ser resolvido. Neste momento, é definido como será codificado (genes - como cada parâmetro é represntado - e cromossomo - conjunto desses genes) esses indivíduos."
   ]
  },
  {
   "cell_type": "markdown",
   "metadata": {},
   "source": [
    "Metologia Experimental\n",
    "------\n",
    "\n"
   ]
  },
  {
   "cell_type": "markdown",
   "metadata": {},
   "source": [
    "Resultados e Discussões\n",
    "------"
   ]
  },
  {
   "cell_type": "markdown",
   "metadata": {},
   "source": [
    "Conclusão\n",
    "------"
   ]
  },
  {
   "cell_type": "code",
   "execution_count": 1,
   "metadata": {},
   "outputs": [],
   "source": [
    "import chainer\n",
    "import matplotlib\n",
    "import matplotlib.pyplot as plt\n",
    "from random import *\n",
    "from pandas import *\n",
    "import numpy as np\n",
    "from functools import reduce\n",
    "from multiprocessing import Pool\n",
    "%matplotlib inline"
   ]
  },
  {
   "cell_type": "code",
   "execution_count": 111,
   "metadata": {},
   "outputs": [],
   "source": [
    "n_lines = 28\n",
    "n_columns = 28\n",
    "n_population = 100\n",
    "n_generations = 1000\n",
    "mutation_prob = 50"
   ]
  },
  {
   "cell_type": "code",
   "execution_count": 112,
   "metadata": {},
   "outputs": [
    {
     "data": {
      "image/png": "[encoded data removed]",
      "text/plain": [
       "<Figure size 432x288 with 20 Axes>"
      ]
     },
     "metadata": {},
     "output_type": "display_data"
    }
   ],
   "source": [
    "# Load the MNIST dataset from pre-inn chainer method\n",
    "train, test = chainer.datasets.get_mnist(ndim = 1)\n",
    "\n",
    "ROW = 4\n",
    "COLUMN = 5\n",
    "for i in range(ROW * COLUMN):\n",
    "    # train[i][0] is i-th image data with size 28x28\n",
    "    image = train[i][0].reshape(n_lines, n_columns)   # not necessary to reshape if ndim is set to 2\n",
    "    plt.subplot(ROW, COLUMN, i + 1)          # subplot with size (width 3, height 5)\n",
    "    plt.imshow(image, cmap = 'gray')  # cmap='gray' is for black and white picture.\n",
    "    # train[i][1] is i-th digit label\n",
    "    plt.title('label = {}'.format(train[i][1]))\n",
    "    plt.axis('off')  # do not show axis value\n",
    "plt.tight_layout()   # automatic padding between subplots\n",
    "plt.savefig(\"mnist_plot.png\")\n",
    "plt.show()"
   ]
  },
  {
   "cell_type": "code",
   "execution_count": 113,
   "metadata": {},
   "outputs": [],
   "source": [
    "image_number = train[13][0].reshape(n_lines, n_columns)"
   ]
  },
  {
   "cell_type": "code",
   "execution_count": 114,
   "metadata": {},
   "outputs": [],
   "source": [
    "def zeroOrOne(lst):\n",
    "    for i in range(len(lst)):\n",
    "        if lst[i] < 0.5:\n",
    "            lst[i] = 0\n",
    "        else:\n",
    "            lst[i] = 1\n",
    "    return lst"
   ]
  },
  {
   "cell_type": "code",
   "execution_count": 115,
   "metadata": {},
   "outputs": [],
   "source": [
    "image2_number = [[0] * n_columns for _ in range(n_lines)]\n",
    "array_number = []\n",
    "\n",
    "for i in range(n_lines):\n",
    "    for j in range(n_columns):\n",
    "        a = image_number[i][j]\n",
    "        if a < 0.5:\n",
    "            a = 0\n",
    "        else:\n",
    "            a = 1\n",
    "        array_number.append(a)"
   ]
  },
  {
   "cell_type": "code",
   "execution_count": 116,
   "metadata": {},
   "outputs": [
    {
     "data": {
      "text/plain": [
       "<matplotlib.image.AxesImage at 0x7fdbefc5c518>"
      ]
     },
     "execution_count": 116,
     "metadata": {},
     "output_type": "execute_result"
    },
    {
     "data": {
      "image/png": "[encoded data removed]",
      "text/plain": [
       "<Figure size 432x288 with 1 Axes>"
      ]
     },
     "metadata": {},
     "output_type": "display_data"
    }
   ],
   "source": [
    "plt.imshow(image_number, cmap='gray')"
   ]
  },
  {
   "cell_type": "code",
   "execution_count": 117,
   "metadata": {},
   "outputs": [
    {
     "data": {
      "text/plain": [
       "<matplotlib.image.AxesImage at 0x7fdbef9ec5c0>"
      ]
     },
     "execution_count": 117,
     "metadata": {},
     "output_type": "execute_result"
    },
    {
     "data": {
      "image/png": "[encoded data removed]",
      "text/plain": [
       "<Figure size 432x288 with 1 Axes>"
      ]
     },
     "metadata": {},
     "output_type": "display_data"
    }
   ],
   "source": [
    "if __name__ == '__main__':\n",
    "    with Pool(5) as p:\n",
    "        image2_number = p.map(zeroOrOne, image_number)\n",
    "\n",
    "plt.imshow(image2_number, cmap = 'gray')"
   ]
  },
  {
   "cell_type": "code",
   "execution_count": 118,
   "metadata": {},
   "outputs": [],
   "source": [
    "# Cálculo de fitness\n",
    "def fitness_calculation(reference, pop):\n",
    "    fitness = []\n",
    "    for p in pop:\n",
    "        aux = 0\n",
    "        for col in range(len(p)):\n",
    "            if reference[col] == p[col]:\n",
    "                aux = aux + 1\n",
    "        fitness.append(aux)\n",
    "    return (reduce((lambda x, y: x + y), fitness), fitness)"
   ]
  },
  {
   "cell_type": "code",
   "execution_count": 119,
   "metadata": {},
   "outputs": [],
   "source": [
    "def population_generation():\n",
    "    return np.ndarray.tolist(np.random.randint(2, size = (n_population, n_lines * n_columns)))"
   ]
  },
  {
   "cell_type": "code",
   "execution_count": 120,
   "metadata": {},
   "outputs": [],
   "source": [
    "def evolution_algorithm(population):\n",
    "    max_fitness_per_generation = []\n",
    "    _, ft = fitness_calculation(array_number, population)\n",
    "    max_fitness_per_generation.append(max(ft))\n",
    "\n",
    "    for gen in range(n_generations):\n",
    "        total_fitness, actual_fitness = fitness_calculation(array_number, population)\n",
    "\n",
    "        # Seleção Natural\n",
    "        # Determinação dos pais desta geração\n",
    "        abs_pop_fitness = []\n",
    "        parents = []\n",
    "\n",
    "        for pop in range(n_population):\n",
    "            if pop == 0:\n",
    "                prev = 0\n",
    "            else:\n",
    "                prev = abs_pop_fitness[pop - 1]\n",
    "            abs_pop_fitness.append(prev + actual_fitness[pop])\n",
    "\n",
    "        for pop in range(n_population // 2):\n",
    "            aux1 = 0\n",
    "            aux2 = 0\n",
    "\n",
    "            rn = randint(0, total_fitness)\n",
    "\n",
    "            for pop2 in range(n_population):\n",
    "                if(rn <= abs_pop_fitness[pop2]):\n",
    "                    aux1 = pop2\n",
    "                    aux2 = pop2\n",
    "                    break\n",
    "\n",
    "            while aux1 == aux2:\n",
    "                rn = randint(0, total_fitness)\n",
    "                for pop3 in range(n_population):\n",
    "                    if(rn <= abs_pop_fitness[pop3]):\n",
    "                        aux2 = pop3\n",
    "                        break\n",
    "            parents.append([aux1, aux2])\n",
    "\n",
    "        # Reprodução\n",
    "        new_gen = []\n",
    "\n",
    "        for ng in parents:\n",
    "            x = population[ng[0]]\n",
    "            y = population[ng[1]]\n",
    "            crossover_point = randint(1, len(x) - 1)\n",
    "\n",
    "            new_gen.append(x[0 : crossover_point] + y[crossover_point : len(x)])\n",
    "            new_gen.append(y[0 : crossover_point] + x[crossover_point : len(x)])\n",
    "\n",
    "        # Mutação\n",
    "        for ng in new_gen:\n",
    "            for b in ng:\n",
    "                pm = randint(0, 100)\n",
    "                if pm > (100 - mutation_prob):\n",
    "                    if ng[b] == 1:\n",
    "                        ng[b] = 0\n",
    "                    else:\n",
    "                        ng[b] = 1\n",
    "\n",
    "        population = new_gen\n",
    "        _,ft = fitness_calculation(array_number, population)\n",
    "        max_fitness_per_generation.append(max(ft))\n",
    "        \n",
    "    return max_fitness_per_generation"
   ]
  },
  {
   "cell_type": "code",
   "execution_count": 121,
   "metadata": {},
   "outputs": [
    {
     "name": "stdout",
     "output_type": "stream",
     "text": [
      "Fitness máximo: 458\n",
      "Último fitness: 441\n",
      "Adequação a solução ideal: 56.25%\n"
     ]
    },
    {
     "data": {
      "image/png": "[encoded data removed]",
      "text/plain": [
       "<Figure size 432x288 with 1 Axes>"
      ]
     },
     "metadata": {},
     "output_type": "display_data"
    }
   ],
   "source": [
    "max_fitness_per_generation = evolution_algorithm(population_generation())\n",
    "nmax = max(max_fitness_per_generation)\n",
    "last_fitness = max_fitness_per_generation[len(max_fitness_per_generation) - 1]\n",
    "\n",
    "print(\"Fitness máximo: {}\".format(nmax))\n",
    "print(\"Último fitness: {}\".format(last_fitness))\n",
    "print(\"Adequação a solução ideal: {:5.2f}%\".format(last_fitness / (n_lines * n_columns) * 100.0))\n",
    "plt.plot(max_fitness_per_generation)\n",
    "plt.ylabel('Fitness')\n",
    "plt.show()"
   ]
  },
  {
   "cell_type": "code",
   "execution_count": null,
   "metadata": {},
   "outputs": [],
   "source": [
    "rows = 3\n",
    "columns = 3\n",
    "for i in range(rows * columns):\n",
    "    image = train[i][0].reshape(n_lines, n_columns)\n",
    "    plt.subplot(rows, columns, i + 1)\n",
    "    plt.imshow(image, cmap = 'gray')\n",
    "    plt.title('label = {}'.format(train[i][1]))\n",
    "plt.tight_layout()\n",
    "plt.savefig(\"mnist_plot.png\")\n",
    "plt.show()"
   ]
  },
  {
   "cell_type": "code",
   "execution_count": null,
   "metadata": {},
   "outputs": [],
   "source": []
  },
  {
   "cell_type": "code",
   "execution_count": null,
   "metadata": {},
   "outputs": [],
   "source": []
  },
  {
   "cell_type": "code",
   "execution_count": null,
   "metadata": {},
   "outputs": [],
   "source": []
  }
 ],
 "metadata": {
  "kernelspec": {
   "display_name": "Python 3",
   "language": "python",
   "name": "python3"
  },
  "language_info": {
   "codemirror_mode": {
    "name": "ipython",
    "version": 3
   },
   "file_extension": ".py",
   "mimetype": "text/x-python",
   "name": "python",
   "nbconvert_exporter": "python",
   "pygments_lexer": "ipython3",
   "version": "3.5.2"
  }
 },
 "nbformat": 4,
 "nbformat_minor": 2
}
