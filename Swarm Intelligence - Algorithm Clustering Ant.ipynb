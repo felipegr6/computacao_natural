{
 "cells": [
  {
   "cell_type": "markdown",
   "metadata": {},
   "source": [
    "# Algorithm Clustering Ant"
   ]
  },
  {
   "cell_type": "code",
   "execution_count": 1,
   "metadata": {},
   "outputs": [],
   "source": [
    "%matplotlib inline"
   ]
  },
  {
   "cell_type": "code",
   "execution_count": 60,
   "metadata": {},
   "outputs": [],
   "source": [
    "from random import *\n",
    "import matplotlib\n",
    "import matplotlib.pyplot as plt\n",
    "import matplotlib.animation as animation\n",
    "import numpy as np\n",
    "import random as rd\n",
    "import math as mt\n",
    "from copy import copy, deepcopy\n",
    "from functools import reduce"
   ]
  },
  {
   "cell_type": "code",
   "execution_count": 3,
   "metadata": {},
   "outputs": [],
   "source": [
    "# Estado que cada célula pode assumir\n",
    "NO_ANT = 0\n",
    "ANT_UNLOADED = 1\n",
    "ANT_L1 = 2\n",
    "ANT_L2 = 3\n",
    "\n",
    "NO_LOAD = 0\n",
    "L1 = 196\n",
    "L2 = 46\n",
    "\n",
    "EMPTY_CELL           = (NO_ANT, NO_LOAD)\n",
    "NO_ANT_W_L1          = (NO_ANT, L1)\n",
    "NO_ANT_W_L2          = (NO_ANT, L2)\n",
    "ANT_UNLOADED_NO_LOAD = (ANT_UNLOADED, NO_LOAD)"
   ]
  },
  {
   "cell_type": "code",
   "execution_count": 4,
   "metadata": {},
   "outputs": [],
   "source": [
    "def neighborhood(grid, pair):\n",
    "    x = pair[0]\n",
    "    min_x = (x - 1) if ((x - 1) >= 0) else x\n",
    "    max_x = (x + 1) if ((x + 1) < len(grid)) else x\n",
    "    \n",
    "    y = pair[1]\n",
    "    min_y = (y - 1) if ((y - 1) >= 0) else y\n",
    "    max_y = (y + 1) if ((y + 1) < len(grid)) else y\n",
    "    \n",
    "    return list({\n",
    "        (min_x, min_y), (min_x, y), (min_x, max_y), \n",
    "        (max_x, min_y), (max_x, y),(max_x, max_y),\n",
    "        (x, min_y), (x, y), (x, max_y)\n",
    "    })"
   ]
  },
  {
   "cell_type": "code",
   "execution_count": 5,
   "metadata": {},
   "outputs": [],
   "source": [
    "# Cálculo da fração de itens percebidos na vizinhaça da formiga\n",
    "# Pode ser percebido como visibilidade de cada formiga\n",
    "def f(grid, ant, load_type):\n",
    "    neighbors = neighborhood(grid, ant)\n",
    "    quantity = 0\n",
    "    \n",
    "    for n in neighbors:\n",
    "        value = grid[n[0]][n[1]]\n",
    "        if value[1] == load_type:\n",
    "            quantity += 1\n",
    "        \n",
    "    return quantity/len(neighbors)"
   ]
  },
  {
   "cell_type": "code",
   "execution_count": 6,
   "metadata": {},
   "outputs": [],
   "source": [
    "# Cálculo da probabilidade de uma formiga pegar um item uma vez descarregada e numa célula com item\n",
    "# p_pick = (k1/(k1+f))²\n",
    "def p_pick(grid, k1, ant, load_type):\n",
    "    return mt.pow((k1 / (k1 + f(grid, ant, load_type))), 2)"
   ]
  },
  {
   "cell_type": "code",
   "execution_count": 7,
   "metadata": {},
   "outputs": [],
   "source": [
    "# Cálculo da probabilidade de uma formiga deixar um item uma vez carregada e numa célula sem item\n",
    "# p_drop = (f/(k2+f))²\n",
    "def p_drop(grid, k2, ant, load_type):\n",
    "    return mt.pow((f(grid, ant, load_type) / (k2 + f(grid, ant, load_type))), 2)"
   ]
  },
  {
   "cell_type": "code",
   "execution_count": 8,
   "metadata": {},
   "outputs": [],
   "source": [
    "def move_ant(grid, ants, ant):\n",
    "    possible_positions = neighborhood(grid, ant)\n",
    "    condition = True\n",
    "    \n",
    "    while condition:\n",
    "        # Pega uma posição aleatória\n",
    "        new_pos = possible_positions[randint(0, len(possible_positions) - 1)]\n",
    "        # Valor desta posição aleatória\n",
    "        new_value = grid[new_pos[0]][new_pos[1]]\n",
    "        \n",
    "        if new_value[0] == NO_ANT: # Verifica se a nova posição não há formiga\n",
    "            old_pos = ant\n",
    "            old_value = grid[old_pos[0]][old_pos[1]]\n",
    "            \n",
    "            grid[old_pos[0]][old_pos[1]] = (NO_ANT, old_value[1])            \n",
    "            grid[new_pos[0]][new_pos[1]] = (old_value[0], new_value[1])\n",
    "            \n",
    "            i = ants.index(ant)\n",
    "            ants.remove(ant)\n",
    "            ants.insert(i, new_pos)\n",
    "            condition = False\n",
    "        else:\n",
    "            possible_positions.remove(new_pos)\n",
    "            if (len(possible_positions) == 0):\n",
    "                condition = False\n",
    "    \n",
    "    return grid, ants"
   ]
  },
  {
   "cell_type": "code",
   "execution_count": 50,
   "metadata": {},
   "outputs": [],
   "source": [
    "def ACA(max_it, size_grid, n_ants, n_load, n_load2, k1, k2):\n",
    "    grid = [[EMPTY_CELL] * size_grid for i in range(size_grid)]\n",
    "    ants = [] # Posição das formigas\n",
    "    loads = [] # Posição das cargas\n",
    "    \n",
    "    # ANT_UNLOADED_NO_LOAD = {ANT_UNLOADED, NO_LOAD}\n",
    "    # Posicionamento inicial das formigas no grid\n",
    "    ant = 0\n",
    "    while ant < n_ants:\n",
    "        x, y = (randint(0, size_grid - 1), randint(0, size_grid - 1))\n",
    "        if grid[x][y] == EMPTY_CELL:\n",
    "            grid[x][y] = ANT_UNLOADED_NO_LOAD\n",
    "            ants.append((x,y))\n",
    "            ant = ant + 1\n",
    "    \n",
    "    # NO_ANT_W_L1 = {NO_ANT, L1}\n",
    "    # Posicionamento inicial das cargas no grid\n",
    "    load = 0\n",
    "    while load < n_load:\n",
    "        x,y = (randint(0, size_grid - 1), randint(0, size_grid - 1))\n",
    "        if grid[x][y] == EMPTY_CELL:\n",
    "            grid[x][y] = NO_ANT_W_L1\n",
    "            loads.append((x, y))\n",
    "            load = load + 1\n",
    "    \n",
    "    # NO_ANT_W_L2 = {NO_ANT, L2}\n",
    "    # Posicionamento inicial das cargas no grid\n",
    "    load2 = 0\n",
    "    while load2 < n_load2:\n",
    "        x,y = (randint(0, size_grid - 1), randint(0, size_grid - 1))\n",
    "        if grid[x][y] == EMPTY_CELL:\n",
    "            grid[x][y] = NO_ANT_W_L2\n",
    "            loads.append((x, y))\n",
    "            load2 = load2 + 1\n",
    "    \n",
    "    init_grid = deepcopy(grid)\n",
    "    \n",
    "    for t in range(max_it): # Repetir para max_it iterações\n",
    "        for a in ants: # Repetir para cada formiga\n",
    "            content_pos = grid[a[0]][a[1]]\n",
    "            \n",
    "            if content_pos[0] == ANT_UNLOADED and content_pos[1] != NO_LOAD: # Se a formiga está descarregada e há um item\n",
    "                if rd.random() <= p_pick(grid, k1, a, content_pos[1]):\n",
    "                    if content_pos[1] == L1:\n",
    "                        grid[a[0]][a[1]] = (ANT_L1, NO_LOAD)\n",
    "                    elif content_pos[1] == L2:\n",
    "                        grid[a[0]][a[1]] = (ANT_L2, NO_LOAD)\n",
    "            \n",
    "            if content_pos[0] != ANT_UNLOADED and content_pos[1] == NO_LOAD: # Se a formiga está carregada e não há um item\n",
    "                load_type = 0\n",
    "                if content_pos[0] == ANT_L1:\n",
    "                    load_type = L1\n",
    "                elif content_pos[0] == ANT_L2:\n",
    "                    load_type = L2\n",
    "                if rd.random() <= p_drop(grid, k2, a, load_type):\n",
    "                    grid[a[0]][a[1]] = (ANT_UNLOADED, load_type)\n",
    "            \n",
    "            grid, ants = move_ant(grid, ants, a) # Movimentar aleatoriamente a formiga\n",
    "    \n",
    "    num_ants_loaded = 0\n",
    "    for ant in ants:\n",
    "        ant_value = grid[ant[0]][ant[1]]\n",
    "        if ant_value[0] != ANT_UNLOADED:\n",
    "            num_ants_loaded = num_ants_loaded + 1 \n",
    "    \n",
    "    return init_grid, grid, num_ants_loaded*100.0/len(ants)"
   ]
  },
  {
   "cell_type": "code",
   "execution_count": 10,
   "metadata": {},
   "outputs": [],
   "source": [
    "def matrix_plot(g):\n",
    "    m = [[0] * len(g) for i in range(len(g))]    \n",
    "    for i in range(len(g)):\n",
    "        for j in range(len(g)):\n",
    "            value = g[i][j]\n",
    "            if value == EMPTY_CELL:\n",
    "                m[i][j] = 0\n",
    "            elif value[0] == NO_ANT or value[0] == ANT_UNLOADED:\n",
    "                m[i][j] = value[1]\n",
    "            else:\n",
    "                m[i][j] = 80\n",
    "            \n",
    "    return m"
   ]
  },
  {
   "cell_type": "code",
   "execution_count": 52,
   "metadata": {},
   "outputs": [
    {
     "data": {
      "image/png": "[encoded data removed]",
      "text/plain": [
       "<Figure size 360x360 with 1 Axes>"
      ]
     },
     "metadata": {},
     "output_type": "display_data"
    },
    {
     "data": {
      "image/png": "[encoded data removed]",
      "text/plain": [
       "<Figure size 360x360 with 1 Axes>"
      ]
     },
     "metadata": {},
     "output_type": "display_data"
    },
    {
     "name": "stdout",
     "output_type": "stream",
     "text": [
      "40.0\n"
     ]
    }
   ],
   "source": [
    "# Inicialização do algoritmo\n",
    "i,e,p = ACA(max_it=100000, size_grid=35, n_ants=10, n_load=100, n_load2=100, k1=0.05, k2=0.95)\n",
    "\n",
    "plt.rcParams['figure.figsize'] = [5, 5]\n",
    "plt.imshow(matrix_plot(i))\n",
    "plt.show()\n",
    "plt.rcParams['figure.figsize'] = [5, 5]\n",
    "plt.imshow(matrix_plot(e))\n",
    "plt.show()\n",
    "print(p)"
   ]
  },
  {
   "cell_type": "code",
   "execution_count": null,
   "metadata": {},
   "outputs": [],
   "source": [
    "def plotMatrices(times, max_it, size_grid, n_ants, n_load, n_load2, k1, k2):\n",
    "    rows = times\n",
    "    columns = 2\n",
    "    images = []\n",
    "    p_title = []\n",
    "    ps = []\n",
    "    \n",
    "    for i in range(rows):\n",
    "        start,end,p = ACA(max_it, size_grid, n_ants, n_load, n_load2, k1, k2)\n",
    "        images.append(matrix_plot(start))\n",
    "        images.append(matrix_plot(end))\n",
    "        p_title.append('')\n",
    "        p_title.append(p)\n",
    "        ps.append(p)\n",
    "    \n",
    "    for j in range(rows * columns):\n",
    "        image = images[j]\n",
    "        plt.rcParams['figure.figsize'] = [10, 10]\n",
    "        plt.subplot(rows, columns, j + 1)\n",
    "        plt.title('{}'.format(p_title[j]))\n",
    "        plt.imshow(image)\n",
    "        plt.axis('off')\n",
    "\n",
    "    plt.tight_layout()\n",
    "    plt.show()\n",
    "    avg = reduce((lambda x, y: x + y), ps)/(len(ps) * 1.0)\n",
    "    print('Average: {}'.format(avg))"
   ]
  },
  {
   "cell_type": "code",
   "execution_count": 77,
   "metadata": {},
   "outputs": [
    {
     "name": "stderr",
     "output_type": "stream",
     "text": [
      "/usr/local/lib/python3.5/dist-packages/matplotlib/tight_layout.py:209: UserWarning: tight_layout cannot make axes height small enough to accommodate all axes decorations\n",
      "  warnings.warn('tight_layout cannot make axes height small enough '\n"
     ]
    },
    {
     "data": {
      "image/png": "[encoded data removed]",
      "text/plain": [
       "<Figure size 720x720 with 100 Axes>"
      ]
     },
     "metadata": {},
     "output_type": "display_data"
    },
    {
     "name": "stdout",
     "output_type": "stream",
     "text": [
      "Average: 16.84\n"
     ]
    }
   ],
   "source": [
    "plotMatrices(times=50, max_it=100000, size_grid=35, n_ants=100, n_load=100, n_load2=100, k1=0.05, k2=0.95)"
   ]
  },
  {
   "cell_type": "code",
   "execution_count": null,
   "metadata": {},
   "outputs": [],
   "source": [
    "22.0\n",
    "15.8"
   ]
  }
 ],
 "metadata": {
  "kernelspec": {
   "display_name": "Python 3",
   "language": "python",
   "name": "python3"
  },
  "language_info": {
   "codemirror_mode": {
    "name": "ipython",
    "version": 3
   },
   "file_extension": ".py",
   "mimetype": "text/x-python",
   "name": "python",
   "nbconvert_exporter": "python",
   "pygments_lexer": "ipython3",
   "version": "3.5.2"
  }
 },
 "nbformat": 4,
 "nbformat_minor": 2
}
